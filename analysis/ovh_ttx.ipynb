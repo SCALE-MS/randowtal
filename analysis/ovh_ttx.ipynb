{
 "cells": [
  {
   "cell_type": "code",
   "execution_count": 1,
   "metadata": {
    "ExecuteTime": {
     "end_time": "2021-06-18T10:04:35.959919Z",
     "start_time": "2021-06-18T10:04:35.215243Z"
    }
   },
   "outputs": [
    {
     "data": {
      "text/html": [
       "<style>.container { width:100% !important; }</style>"
      ],
      "text/plain": [
       "<IPython.core.display.HTML object>"
      ]
     },
     "metadata": {},
     "output_type": "display_data"
    }
   ],
   "source": [
    "%matplotlib inline\n",
    "%run 'bin/notebook_utils.py'\n",
    "%run 'bin/plot_utilization.py'\n",
    "import matplotlib.ticker as mticker\n"
   ]
  },
  {
   "cell_type": "markdown",
   "metadata": {
    "pycharm": {
     "name": "#%%\n"
    }
   },
   "source": [
    "# README\n",
    "Run the notebook server from the same directory as the notebook file.\n",
    "\n",
    "Before continuing, extract the data.\n",
    "\n",
    "    cd ../data/raw\n",
    "    tar xvf sessions.tgz\n",
    "    mv test*/* ./\n",
    "    cd ../../analysis"
   ]
  },
  {
   "cell_type": "code",
   "execution_count": 2,
   "metadata": {
    "ExecuteTime": {
     "end_time": "2021-06-18T10:04:36.440905Z",
     "start_time": "2021-06-18T10:04:35.962992Z"
    }
   },
   "outputs": [
    {
     "name": "stdout",
     "output_type": "stream",
     "text": [
      "\r\n",
      "  python               : /Users/eric/.virtualenvs/lccf_adaptive/bin/python3\r\n",
      "  pythonpath           : \r\n",
      "  version              : 3.8.6\r\n",
      "  virtualenv           : /Users/eric/.virtualenvs/lccf_adaptive\r\n",
      "\r\n",
      "  radical.analytics    : 1.5.0-v1.5.0-5-g2ad4481@feature-ru-option\r\n",
      "  radical.gtod         : 1.5.0\r\n",
      "  radical.pilot        : 1.5.11\r\n",
      "  radical.saga         : 1.5.2\r\n",
      "  radical.utils        : 1.6.6-scalems-stable-9-g767c62e@tmp-mt\r\n",
      "\r\n"
     ]
    }
   ],
   "source": [
    "! radical-stack"
   ]
  },
  {
   "cell_type": "code",
   "execution_count": 3,
   "metadata": {
    "ExecuteTime": {
     "end_time": "2021-06-18T10:04:36.451103Z",
     "start_time": "2021-06-18T10:04:36.445708Z"
    }
   },
   "outputs": [],
   "source": [
    "sexpids = {                                                                       \n",
    "    'rp.session.js-17-185.jetstream-cloud.org.eirrgang.018795.0017' :'gmx2019',\n",
    "    'rp.session.js-17-185.jetstream-cloud.org.eirrgang.018795.0018' :'gmx2019',\n",
    "    'rp.session.js-17-185.jetstream-cloud.org.eirrgang.018795.0019' :'gmx2019',\n",
    "    'rp.session.js-17-185.jetstream-cloud.org.eirrgang.018795.0020' :'gmx2019'\n",
    "}\n",
    "suds = sexpids.keys()\n",
    "sdir = '../data/raw/'\n",
    "sids = [sdir+s for s in suds]"
   ]
  },
  {
   "cell_type": "code",
   "execution_count": 4,
   "metadata": {
    "ExecuteTime": {
     "end_time": "2021-06-18T10:04:37.518627Z",
     "start_time": "2021-06-18T10:04:36.454582Z"
    }
   },
   "outputs": [],
   "source": [
    "%%capture capt\n",
    "\n",
    "ss = {}\n",
    "for sid in suds:\n",
    "    sp = sdir+sid\n",
    "    ss[sid] = {'s': ra.Session(sp, 'radical.pilot')}\n",
    "    ss[sid].update({'p': ss[sid]['s'].filter(etype='pilot'   , inplace=False),\n",
    "                    't': ss[sid]['s'].filter(etype='task'    , inplace=False)})"
   ]
  },
  {
   "cell_type": "code",
   "execution_count": 5,
   "metadata": {
    "ExecuteTime": {
     "end_time": "2021-06-18T10:04:37.534467Z",
     "start_time": "2021-06-18T10:04:37.520617Z"
    }
   },
   "outputs": [],
   "source": [
    "for sid in suds:\n",
    "    ss[sid].update({'sid'     : ss[sid]['s'].uid,\n",
    "                    'pid'     : ss[sid]['p'].list('uid'),\n",
    "                    'expid'   : sexpids[sid],\n",
    "                    'npilot'  : len(ss[sid]['p'].get()),\n",
    "                    'lm'      : ss[sid]['s'].get(etype='pilot')[0].cfg['agent_launch_method'],\n",
    "                    'npact'   : len(ss[sid]['p'].timestamps(state='PMGR_ACTIVE')),\n",
    "                    'ntask'   : len(ss[sid]['t'].get()),\n",
    "                    'ntfail'  : len(ss[sid]['t'].timestamps(state='FAILED')),\n",
    "                    'hostid'  : ss[sid]['s'].get(etype='pilot')[0].cfg['hostid'],\n",
    "                    'gpu_node': ss[sid]['s'].get(etype='pilot')[0].cfg['gpus_per_node']})\n",
    "    ss[sid].update({'pres'    : ss[sid]['p'].get(uid=ss[sid]['pid'])[0].description['resource'],\n",
    "                    'ncores'  : ss[sid]['p'].get(uid=ss[sid]['pid'])[0].description['cores'],\n",
    "                    'ngpus'   : ss[sid]['p'].get(uid=ss[sid]['pid'])[0].description['gpus']})\n",
    "    ss[sid].update({'nnodes'  : int(ss[sid]['ncores']/56)})"
   ]
  },
  {
   "cell_type": "code",
   "execution_count": 6,
   "metadata": {
    "ExecuteTime": {
     "end_time": "2021-06-18T10:04:38.270505Z",
     "start_time": "2021-06-18T10:04:37.536707Z"
    }
   },
   "outputs": [],
   "source": [
    "%%capture capt\n",
    "\n",
    "u_durations = {}\n",
    "\n",
    "for sid in suds:\n",
    "    u_durations[sid] = {}\n",
    "\n",
    "for sid in suds:\n",
    "    for uid in ss[sid]['t'].list('uid'):\n",
    "        unit = ss[sid]['t'].get(etype='task', uid=uid)[0]\n",
    "        durations = {}\n",
    "        for k,v in rp.utils.UNIT_DURATIONS_DEBUG.items():\n",
    "            try:\n",
    "                durations[k] = unit.duration(event=v)\n",
    "            except:\n",
    "                print(\"WARNING: %s: %s: event %s missing\" % (sid, uid, v))\n",
    "                durations[k] = 0\n",
    "        u_durations[sid].update({uid: durations})"
   ]
  },
  {
   "cell_type": "code",
   "execution_count": 7,
   "metadata": {
    "ExecuteTime": {
     "end_time": "2021-06-18T10:04:38.418227Z",
     "start_time": "2021-06-18T10:04:38.271962Z"
    }
   },
   "outputs": [],
   "source": [
    "%%capture capt\n",
    "\n",
    "p_durations = {}\n",
    "\n",
    "for sid in suds:\n",
    "    p_durations[sid] = {}\n",
    "\n",
    "for sid in suds:\n",
    "    for pid in ss[sid]['p'].list('uid'):\n",
    "        pilot = ss[sid]['p'].get(etype='pilot', uid=pid)[0]\n",
    "        durations = {}\n",
    "        for k,v in rp.utils.PILOT_DURATIONS_DEBUG.items():\n",
    "            try:\n",
    "                durations[k] = pilot.duration(event=v)\n",
    "            except:\n",
    "                print(\"WARNING: %s: %s: event %s missing\" % (sid, pid, v))\n",
    "                durations[k] = 0\n",
    "        p_durations[sid].update({pid: durations})"
   ]
  },
  {
   "cell_type": "code",
   "execution_count": 8,
   "metadata": {
    "ExecuteTime": {
     "end_time": "2021-06-18T10:04:38.474856Z",
     "start_time": "2021-06-18T10:04:38.422194Z"
    }
   },
   "outputs": [],
   "source": [
    "# With RP < 1.5.2, on Summit/Frontera, bootstrap_0_stop, cu_pre_start|stop are \n",
    "# not recorded. We cannot use the default durations.\n",
    "\n",
    "for sid in suds:\n",
    "    u  = ss[sid]['t']\n",
    "    p  = ss[sid]['p']\n",
    "    p0 = p.get(uid=ss[sid]['pid'])[0]\n",
    "\n",
    "    ss[sid].update({\n",
    "      'ttx_p': p0.duration(event=[ {ru.EVENT: 'bootstrap_0_start', ru.STATE: None   },\n",
    "                                 # {ru.EVENT: 'bootstrap_0_stop', ru.STATE: None    }]),\n",
    "                                  [{ru.EVENT: 'state'        , ru.STATE: rp.DONE    },\n",
    "                                   {ru.EVENT: 'state'        , ru.STATE: rp.FAILED  },\n",
    "                                   {ru.EVENT: 'state'        , ru.STATE: rp.CANCELED}]]),\n",
    "      'ttx_u': u.duration( event=[ {ru.EVENT: 'task_exec_start', ru.STATE: None       },      \n",
    "                                   {ru.EVENT: 'task_exec_stop' , ru.STATE: None       } ])})\n",
    "    \n",
    "    ss[sid].update({'ovh_rtc': ss[sid]['ttx_p'] - ss[sid]['ttx_u']})"
   ]
  },
  {
   "cell_type": "code",
   "execution_count": 9,
   "metadata": {
    "ExecuteTime": {
     "end_time": "2021-06-18T10:04:38.500662Z",
     "start_time": "2021-06-18T10:04:38.477247Z"
    }
   },
   "outputs": [
    {
     "data": {
      "text/html": [
       "<div>\n",
       "<style scoped>\n",
       "    .dataframe tbody tr th:only-of-type {\n",
       "        vertical-align: middle;\n",
       "    }\n",
       "\n",
       "    .dataframe tbody tr th {\n",
       "        vertical-align: top;\n",
       "    }\n",
       "\n",
       "    .dataframe thead th {\n",
       "        text-align: right;\n",
       "    }\n",
       "</style>\n",
       "<table border=\"1\" class=\"dataframe\">\n",
       "  <thead>\n",
       "    <tr style=\"text-align: right;\">\n",
       "      <th></th>\n",
       "      <th>session</th>\n",
       "      <th>exp_id</th>\n",
       "      <th>resource</th>\n",
       "      <th>pilot_lm</th>\n",
       "      <th>#pilots</th>\n",
       "      <th>#cores</th>\n",
       "      <th>#nodes</th>\n",
       "      <th>#tasks executed</th>\n",
       "      <th>total exec. time (s)</th>\n",
       "      <th>RCT overheads (s)</th>\n",
       "    </tr>\n",
       "  </thead>\n",
       "  <tbody>\n",
       "    <tr>\n",
       "      <th>0</th>\n",
       "      <td>rp.session.js-17-185.jetstream-cloud.org.eirrgang.018795.0017</td>\n",
       "      <td>gmx2019</td>\n",
       "      <td>tacc.frontera</td>\n",
       "      <td>SRUN</td>\n",
       "      <td>1</td>\n",
       "      <td>560</td>\n",
       "      <td>10</td>\n",
       "      <td>10</td>\n",
       "      <td>1764.0</td>\n",
       "      <td>107.594406</td>\n",
       "    </tr>\n",
       "    <tr>\n",
       "      <th>1</th>\n",
       "      <td>rp.session.js-17-185.jetstream-cloud.org.eirrgang.018795.0018</td>\n",
       "      <td>gmx2019</td>\n",
       "      <td>tacc.frontera</td>\n",
       "      <td>SRUN</td>\n",
       "      <td>1</td>\n",
       "      <td>2800</td>\n",
       "      <td>50</td>\n",
       "      <td>50</td>\n",
       "      <td>1788.0</td>\n",
       "      <td>113.974098</td>\n",
       "    </tr>\n",
       "    <tr>\n",
       "      <th>2</th>\n",
       "      <td>rp.session.js-17-185.jetstream-cloud.org.eirrgang.018795.0019</td>\n",
       "      <td>gmx2019</td>\n",
       "      <td>tacc.frontera</td>\n",
       "      <td>SRUN</td>\n",
       "      <td>1</td>\n",
       "      <td>5600</td>\n",
       "      <td>100</td>\n",
       "      <td>100</td>\n",
       "      <td>1795.0</td>\n",
       "      <td>109.656014</td>\n",
       "    </tr>\n",
       "    <tr>\n",
       "      <th>3</th>\n",
       "      <td>rp.session.js-17-185.jetstream-cloud.org.eirrgang.018795.0020</td>\n",
       "      <td>gmx2019</td>\n",
       "      <td>tacc.frontera</td>\n",
       "      <td>SRUN</td>\n",
       "      <td>1</td>\n",
       "      <td>14000</td>\n",
       "      <td>250</td>\n",
       "      <td>250</td>\n",
       "      <td>1751.0</td>\n",
       "      <td>142.093608</td>\n",
       "    </tr>\n",
       "  </tbody>\n",
       "</table>\n",
       "</div>"
      ],
      "text/plain": [
       "                                                         session   exp_id       resource pilot_lm  #pilots  #cores  #nodes  #tasks executed  total exec. time (s)  RCT overheads (s)\n",
       "0  rp.session.js-17-185.jetstream-cloud.org.eirrgang.018795.0017  gmx2019  tacc.frontera     SRUN        1     560      10               10                1764.0         107.594406\n",
       "1  rp.session.js-17-185.jetstream-cloud.org.eirrgang.018795.0018  gmx2019  tacc.frontera     SRUN        1    2800      50               50                1788.0         113.974098\n",
       "2  rp.session.js-17-185.jetstream-cloud.org.eirrgang.018795.0019  gmx2019  tacc.frontera     SRUN        1    5600     100              100                1795.0         109.656014\n",
       "3  rp.session.js-17-185.jetstream-cloud.org.eirrgang.018795.0020  gmx2019  tacc.frontera     SRUN        1   14000     250              250                1751.0         142.093608"
      ]
     },
     "execution_count": 9,
     "metadata": {},
     "output_type": "execute_result"
    }
   ],
   "source": [
    "info = []\n",
    "for sid in suds:\n",
    "    info.append({'session'             : sid,\n",
    "                 'exp_id'              : sexpids[sid],\n",
    "                 'resource'            : ss[sid]['pres'],\n",
    "                 'pilot_lm'            : ss[sid]['lm'], \n",
    "                 '#pilots'             : ss[sid]['npilot'],\n",
    "                 #'ps_active'          : ss[sid]['npact'],\n",
    "                 '#cores'              : ss[sid]['ncores'], \n",
    "                 #'gpus'               : ss[sid]['ngpus'], \n",
    "                 '#nodes'              : ss[sid]['nnodes'], \n",
    "                 '#tasks executed'     : ss[sid]['ntask']-ss[sid]['ntfail'],\n",
    "                 'total exec. time (s)': ss[sid]['ttx_u'],\n",
    "                 'RCT overheads (s)'   : ss[sid]['ovh_rtc']\n",
    "                })\n",
    "\n",
    "df_info = pd.DataFrame(info)\n",
    "pd.set_option('display.max_colwidth', None)\n",
    "df_info"
   ]
  },
  {
   "cell_type": "code",
   "execution_count": 10,
   "metadata": {
    "ExecuteTime": {
     "end_time": "2021-06-18T10:04:45.195877Z",
     "start_time": "2021-06-18T10:04:38.503112Z"
    }
   },
   "outputs": [
    {
     "data": {
      "image/png": "[encoded data removed]",
      "text/plain": [
       "<Figure size 1728x288 with 4 Axes>"
      ]
     },
     "metadata": {},
     "output_type": "display_data"
    }
   ],
   "source": [
    "skip = []\n",
    "nsids = len(suds) - len(skip)\n",
    "\n",
    "fwidth = 6*nsids\n",
    "fhight = 4\n",
    "fig, axarr = plt.subplots(1, nsids, sharey=True, figsize=(fwidth, fhight))\n",
    "\n",
    "i = 0\n",
    "j = 'a'\n",
    "for sid in suds:\n",
    "\n",
    "    if sid in skip:\n",
    "        continue\n",
    "\n",
    "    if len(suds) > 1:\n",
    "        ax = axarr[i]\n",
    "    else:\n",
    "        ax = axarr\n",
    "    \n",
    "    ax.title.set_text('%s/%s Tasks/Nodes' % (ss[sid]['ntask']-ss[sid]['ntfail'], int(ss[sid]['nnodes'])))\n",
    "\n",
    "    ax.bar(x = 'OVH', height = ss[sid]['ovh_rtc'], color = tableau20[1])\n",
    "    ax.bar(x = 'TTX', height = ss[sid]['ttx_u']  , color = tableau20[3])\n",
    "\n",
    "    ax.set_xlabel('(%s)' % j, labelpad=45)\n",
    "\n",
    "    i = i+1\n",
    "    j = chr(ord(j) + 1)\n",
    "\n",
    "fig.text( 0.07,  0.5 , 'Time (s)', va='center', rotation='vertical', fontsize=24)\n",
    "fig.text( 0.5 , -0.05, 'Metric'  , ha='center', fontsize=24)\n",
    "fig.legend(['RADICAL Cybertools overhead (OVH)', 'Workflow time to completion (TTX)'], loc='upper center', \n",
    "           bbox_to_anchor=(0.52, 1.35), fontsize=24, ncol=1)\n",
    "    \n",
    "plt.savefig('figures/ovh_ttx.pdf', dpi=300, bbox_inches='tight')\n",
    "plt.savefig('figures/ovh_ttx.png', dpi=300, bbox_inches='tight')"
   ]
  },
  {
   "cell_type": "code",
   "execution_count": null,
   "metadata": {
    "pycharm": {
     "name": "#%%\n"
    }
   },
   "outputs": [],
   "source": []
  }
 ],
 "metadata": {
  "kernelspec": {
   "display_name": "Python 3",
   "language": "python",
   "name": "python3"
  },
  "language_info": {
   "codemirror_mode": {
    "name": "ipython",
    "version": 3
   },
   "file_extension": ".py",
   "mimetype": "text/x-python",
   "name": "python",
   "nbconvert_exporter": "python",
   "pygments_lexer": "ipython3",
   "version": "3.8.6"
  }
 },
 "nbformat": 4,
 "nbformat_minor": 4
}
